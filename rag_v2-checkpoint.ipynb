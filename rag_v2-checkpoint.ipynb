{
 "cells": [
  {
   "cell_type": "markdown",
   "id": "27f2d569-b73d-4403-9ad9-e0e8a46f4706",
   "metadata": {},
   "source": [
    "# RAG-based AI App About Ollo"
   ]
  },
  {
   "cell_type": "code",
   "execution_count": 1,
   "id": "bf155955-3575-4225-9afb-c929b59b2975",
   "metadata": {},
   "outputs": [],
   "source": [
    "import sqlite3"
   ]
  },
  {
   "cell_type": "code",
   "execution_count": 2,
   "id": "a4e3c632-2670-4f0b-befd-8c6ab3777c72",
   "metadata": {},
   "outputs": [
    {
     "name": "stdout",
     "output_type": "stream",
     "text": [
      "3.35.5\n"
     ]
    }
   ],
   "source": [
    "print(sqlite3.sqlite_version)"
   ]
  },
  {
   "cell_type": "code",
   "execution_count": 3,
   "id": "775040e0",
   "metadata": {},
   "outputs": [
    {
     "name": "stdout",
     "output_type": "stream",
     "text": [
      "Requirement already satisfied: unstructured[pdf] in c:\\users\\kaisensdata\\videos\\these\\projet_test\\agent ia\\rag-qa-self\\rag_env\\lib\\site-packages (0.17.2)\n",
      "Requirement already satisfied: chardet in c:\\users\\kaisensdata\\videos\\these\\projet_test\\agent ia\\rag-qa-self\\rag_env\\lib\\site-packages (from unstructured[pdf]) (5.2.0)\n",
      "Requirement already satisfied: filetype in c:\\users\\kaisensdata\\videos\\these\\projet_test\\agent ia\\rag-qa-self\\rag_env\\lib\\site-packages (from unstructured[pdf]) (1.2.0)\n",
      "Requirement already satisfied: python-magic in c:\\users\\kaisensdata\\videos\\these\\projet_test\\agent ia\\rag-qa-self\\rag_env\\lib\\site-packages (from unstructured[pdf]) (0.4.27)\n",
      "Requirement already satisfied: lxml in c:\\users\\kaisensdata\\videos\\these\\projet_test\\agent ia\\rag-qa-self\\rag_env\\lib\\site-packages (from unstructured[pdf]) (5.4.0)\n",
      "Requirement already satisfied: nltk in c:\\users\\kaisensdata\\videos\\these\\projet_test\\agent ia\\rag-qa-self\\rag_env\\lib\\site-packages (from unstructured[pdf]) (3.9.1)\n",
      "Requirement already satisfied: requests in c:\\users\\kaisensdata\\videos\\these\\projet_test\\agent ia\\rag-qa-self\\rag_env\\lib\\site-packages (from unstructured[pdf]) (2.32.3)\n",
      "Requirement already satisfied: beautifulsoup4 in c:\\users\\kaisensdata\\videos\\these\\projet_test\\agent ia\\rag-qa-self\\rag_env\\lib\\site-packages (from unstructured[pdf]) (4.13.4)\n",
      "Requirement already satisfied: emoji in c:\\users\\kaisensdata\\videos\\these\\projet_test\\agent ia\\rag-qa-self\\rag_env\\lib\\site-packages (from unstructured[pdf]) (2.14.1)\n",
      "Requirement already satisfied: dataclasses-json in c:\\users\\kaisensdata\\videos\\these\\projet_test\\agent ia\\rag-qa-self\\rag_env\\lib\\site-packages (from unstructured[pdf]) (0.6.7)\n",
      "Requirement already satisfied: python-iso639 in c:\\users\\kaisensdata\\videos\\these\\projet_test\\agent ia\\rag-qa-self\\rag_env\\lib\\site-packages (from unstructured[pdf]) (2025.2.18)\n",
      "Requirement already satisfied: langdetect in c:\\users\\kaisensdata\\videos\\these\\projet_test\\agent ia\\rag-qa-self\\rag_env\\lib\\site-packages (from unstructured[pdf]) (1.0.9)\n",
      "Requirement already satisfied: numpy in c:\\users\\kaisensdata\\videos\\these\\projet_test\\agent ia\\rag-qa-self\\rag_env\\lib\\site-packages (from unstructured[pdf]) (1.26.4)\n",
      "Requirement already satisfied: rapidfuzz in c:\\users\\kaisensdata\\videos\\these\\projet_test\\agent ia\\rag-qa-self\\rag_env\\lib\\site-packages (from unstructured[pdf]) (3.13.0)\n",
      "Requirement already satisfied: backoff in c:\\users\\kaisensdata\\videos\\these\\projet_test\\agent ia\\rag-qa-self\\rag_env\\lib\\site-packages (from unstructured[pdf]) (2.2.1)\n",
      "Requirement already satisfied: typing-extensions in c:\\users\\kaisensdata\\videos\\these\\projet_test\\agent ia\\rag-qa-self\\rag_env\\lib\\site-packages (from unstructured[pdf]) (4.13.2)\n",
      "Requirement already satisfied: unstructured-client in c:\\users\\kaisensdata\\videos\\these\\projet_test\\agent ia\\rag-qa-self\\rag_env\\lib\\site-packages (from unstructured[pdf]) (0.28.1)\n",
      "Requirement already satisfied: wrapt in c:\\users\\kaisensdata\\videos\\these\\projet_test\\agent ia\\rag-qa-self\\rag_env\\lib\\site-packages (from unstructured[pdf]) (1.17.2)\n",
      "Requirement already satisfied: tqdm in c:\\users\\kaisensdata\\videos\\these\\projet_test\\agent ia\\rag-qa-self\\rag_env\\lib\\site-packages (from unstructured[pdf]) (4.67.1)\n",
      "Requirement already satisfied: psutil in c:\\users\\kaisensdata\\videos\\these\\projet_test\\agent ia\\rag-qa-self\\rag_env\\lib\\site-packages (from unstructured[pdf]) (7.0.0)\n",
      "Requirement already satisfied: python-oxmsg in c:\\users\\kaisensdata\\videos\\these\\projet_test\\agent ia\\rag-qa-self\\rag_env\\lib\\site-packages (from unstructured[pdf]) (0.0.2)\n",
      "Requirement already satisfied: html5lib in c:\\users\\kaisensdata\\videos\\these\\projet_test\\agent ia\\rag-qa-self\\rag_env\\lib\\site-packages (from unstructured[pdf]) (1.1)\n",
      "Requirement already satisfied: onnx>=1.17.0 in c:\\users\\kaisensdata\\videos\\these\\projet_test\\agent ia\\rag-qa-self\\rag_env\\lib\\site-packages (from unstructured[pdf]) (1.17.0)\n",
      "Requirement already satisfied: onnxruntime>=1.19.0 in c:\\users\\kaisensdata\\videos\\these\\projet_test\\agent ia\\rag-qa-self\\rag_env\\lib\\site-packages (from unstructured[pdf]) (1.21.1)\n",
      "Requirement already satisfied: pdf2image in c:\\users\\kaisensdata\\videos\\these\\projet_test\\agent ia\\rag-qa-self\\rag_env\\lib\\site-packages (from unstructured[pdf]) (1.17.0)\n",
      "Requirement already satisfied: pdfminer.six in c:\\users\\kaisensdata\\videos\\these\\projet_test\\agent ia\\rag-qa-self\\rag_env\\lib\\site-packages (from unstructured[pdf]) (20250416)\n",
      "Requirement already satisfied: pikepdf in c:\\users\\kaisensdata\\videos\\these\\projet_test\\agent ia\\rag-qa-self\\rag_env\\lib\\site-packages (from unstructured[pdf]) (9.7.0)\n",
      "Requirement already satisfied: pi-heif in c:\\users\\kaisensdata\\videos\\these\\projet_test\\agent ia\\rag-qa-self\\rag_env\\lib\\site-packages (from unstructured[pdf]) (0.22.0)\n",
      "Requirement already satisfied: pypdf in c:\\users\\kaisensdata\\videos\\these\\projet_test\\agent ia\\rag-qa-self\\rag_env\\lib\\site-packages (from unstructured[pdf]) (5.4.0)\n",
      "Requirement already satisfied: google-cloud-vision in c:\\users\\kaisensdata\\videos\\these\\projet_test\\agent ia\\rag-qa-self\\rag_env\\lib\\site-packages (from unstructured[pdf]) (3.10.1)\n",
      "Requirement already satisfied: effdet in c:\\users\\kaisensdata\\videos\\these\\projet_test\\agent ia\\rag-qa-self\\rag_env\\lib\\site-packages (from unstructured[pdf]) (0.4.1)\n",
      "Requirement already satisfied: unstructured-inference>=0.8.10 in c:\\users\\kaisensdata\\videos\\these\\projet_test\\agent ia\\rag-qa-self\\rag_env\\lib\\site-packages (from unstructured[pdf]) (0.8.10)\n",
      "Requirement already satisfied: unstructured.pytesseract>=0.3.12 in c:\\users\\kaisensdata\\videos\\these\\projet_test\\agent ia\\rag-qa-self\\rag_env\\lib\\site-packages (from unstructured[pdf]) (0.3.15)\n",
      "Requirement already satisfied: protobuf>=3.20.2 in c:\\users\\kaisensdata\\videos\\these\\projet_test\\agent ia\\rag-qa-self\\rag_env\\lib\\site-packages (from onnx>=1.17.0->unstructured[pdf]) (5.29.4)\n",
      "Requirement already satisfied: coloredlogs in c:\\users\\kaisensdata\\videos\\these\\projet_test\\agent ia\\rag-qa-self\\rag_env\\lib\\site-packages (from onnxruntime>=1.19.0->unstructured[pdf]) (15.0.1)\n",
      "Requirement already satisfied: flatbuffers in c:\\users\\kaisensdata\\videos\\these\\projet_test\\agent ia\\rag-qa-self\\rag_env\\lib\\site-packages (from onnxruntime>=1.19.0->unstructured[pdf]) (25.2.10)\n",
      "Requirement already satisfied: packaging in c:\\users\\kaisensdata\\videos\\these\\projet_test\\agent ia\\rag-qa-self\\rag_env\\lib\\site-packages (from onnxruntime>=1.19.0->unstructured[pdf]) (24.2)\n",
      "Requirement already satisfied: sympy in c:\\users\\kaisensdata\\videos\\these\\projet_test\\agent ia\\rag-qa-self\\rag_env\\lib\\site-packages (from onnxruntime>=1.19.0->unstructured[pdf]) (1.13.3)\n",
      "Requirement already satisfied: python-multipart in c:\\users\\kaisensdata\\videos\\these\\projet_test\\agent ia\\rag-qa-self\\rag_env\\lib\\site-packages (from unstructured-inference>=0.8.10->unstructured[pdf]) (0.0.20)\n",
      "Requirement already satisfied: huggingface-hub in c:\\users\\kaisensdata\\videos\\these\\projet_test\\agent ia\\rag-qa-self\\rag_env\\lib\\site-packages (from unstructured-inference>=0.8.10->unstructured[pdf]) (0.30.2)\n",
      "Requirement already satisfied: opencv-python!=4.7.0.68 in c:\\users\\kaisensdata\\videos\\these\\projet_test\\agent ia\\rag-qa-self\\rag_env\\lib\\site-packages (from unstructured-inference>=0.8.10->unstructured[pdf]) (4.11.0.86)\n",
      "Requirement already satisfied: matplotlib in c:\\users\\kaisensdata\\videos\\these\\projet_test\\agent ia\\rag-qa-self\\rag_env\\lib\\site-packages (from unstructured-inference>=0.8.10->unstructured[pdf]) (3.10.1)\n",
      "Requirement already satisfied: torch in c:\\users\\kaisensdata\\videos\\these\\projet_test\\agent ia\\rag-qa-self\\rag_env\\lib\\site-packages (from unstructured-inference>=0.8.10->unstructured[pdf]) (2.7.0)\n",
      "Requirement already satisfied: timm in c:\\users\\kaisensdata\\videos\\these\\projet_test\\agent ia\\rag-qa-self\\rag_env\\lib\\site-packages (from unstructured-inference>=0.8.10->unstructured[pdf]) (1.0.15)\n",
      "Requirement already satisfied: transformers>=4.25.1 in c:\\users\\kaisensdata\\videos\\these\\projet_test\\agent ia\\rag-qa-self\\rag_env\\lib\\site-packages (from unstructured-inference>=0.8.10->unstructured[pdf]) (4.46.3)\n",
      "Requirement already satisfied: pandas in c:\\users\\kaisensdata\\videos\\these\\projet_test\\agent ia\\rag-qa-self\\rag_env\\lib\\site-packages (from unstructured-inference>=0.8.10->unstructured[pdf]) (2.2.3)\n",
      "Requirement already satisfied: scipy in c:\\users\\kaisensdata\\videos\\these\\projet_test\\agent ia\\rag-qa-self\\rag_env\\lib\\site-packages (from unstructured-inference>=0.8.10->unstructured[pdf]) (1.15.2)\n",
      "Requirement already satisfied: pypdfium2 in c:\\users\\kaisensdata\\videos\\these\\projet_test\\agent ia\\rag-qa-self\\rag_env\\lib\\site-packages (from unstructured-inference>=0.8.10->unstructured[pdf]) (4.30.1)\n",
      "Requirement already satisfied: filelock in c:\\users\\kaisensdata\\videos\\these\\projet_test\\agent ia\\rag-qa-self\\rag_env\\lib\\site-packages (from transformers>=4.25.1->unstructured-inference>=0.8.10->unstructured[pdf]) (3.18.0)\n",
      "Requirement already satisfied: pyyaml>=5.1 in c:\\users\\kaisensdata\\videos\\these\\projet_test\\agent ia\\rag-qa-self\\rag_env\\lib\\site-packages (from transformers>=4.25.1->unstructured-inference>=0.8.10->unstructured[pdf]) (6.0.2)\n",
      "Requirement already satisfied: regex!=2019.12.17 in c:\\users\\kaisensdata\\videos\\these\\projet_test\\agent ia\\rag-qa-self\\rag_env\\lib\\site-packages (from transformers>=4.25.1->unstructured-inference>=0.8.10->unstructured[pdf]) (2024.11.6)\n",
      "Requirement already satisfied: tokenizers<0.21,>=0.20 in c:\\users\\kaisensdata\\videos\\these\\projet_test\\agent ia\\rag-qa-self\\rag_env\\lib\\site-packages (from transformers>=4.25.1->unstructured-inference>=0.8.10->unstructured[pdf]) (0.20.3)\n",
      "Requirement already satisfied: safetensors>=0.4.1 in c:\\users\\kaisensdata\\videos\\these\\projet_test\\agent ia\\rag-qa-self\\rag_env\\lib\\site-packages (from transformers>=4.25.1->unstructured-inference>=0.8.10->unstructured[pdf]) (0.5.3)\n",
      "Requirement already satisfied: fsspec>=2023.5.0 in c:\\users\\kaisensdata\\videos\\these\\projet_test\\agent ia\\rag-qa-self\\rag_env\\lib\\site-packages (from huggingface-hub->unstructured-inference>=0.8.10->unstructured[pdf]) (2025.3.2)\n",
      "Requirement already satisfied: colorama in c:\\users\\kaisensdata\\videos\\these\\projet_test\\agent ia\\rag-qa-self\\rag_env\\lib\\site-packages (from tqdm->unstructured[pdf]) (0.4.6)\n",
      "Requirement already satisfied: Pillow>=8.0.0 in c:\\users\\kaisensdata\\videos\\these\\projet_test\\agent ia\\rag-qa-self\\rag_env\\lib\\site-packages (from unstructured.pytesseract>=0.3.12->unstructured[pdf]) (11.2.1)\n",
      "Requirement already satisfied: soupsieve>1.2 in c:\\users\\kaisensdata\\videos\\these\\projet_test\\agent ia\\rag-qa-self\\rag_env\\lib\\site-packages (from beautifulsoup4->unstructured[pdf]) (2.7)\n",
      "Requirement already satisfied: humanfriendly>=9.1 in c:\\users\\kaisensdata\\videos\\these\\projet_test\\agent ia\\rag-qa-self\\rag_env\\lib\\site-packages (from coloredlogs->onnxruntime>=1.19.0->unstructured[pdf]) (10.0)\n",
      "Requirement already satisfied: pyreadline3 in c:\\users\\kaisensdata\\videos\\these\\projet_test\\agent ia\\rag-qa-self\\rag_env\\lib\\site-packages (from humanfriendly>=9.1->coloredlogs->onnxruntime>=1.19.0->unstructured[pdf]) (3.5.4)\n",
      "Requirement already satisfied: marshmallow<4.0.0,>=3.18.0 in c:\\users\\kaisensdata\\videos\\these\\projet_test\\agent ia\\rag-qa-self\\rag_env\\lib\\site-packages (from dataclasses-json->unstructured[pdf]) (3.26.1)\n",
      "Requirement already satisfied: typing-inspect<1,>=0.4.0 in c:\\users\\kaisensdata\\videos\\these\\projet_test\\agent ia\\rag-qa-self\\rag_env\\lib\\site-packages (from dataclasses-json->unstructured[pdf]) (0.9.0)\n",
      "Requirement already satisfied: mypy-extensions>=0.3.0 in c:\\users\\kaisensdata\\videos\\these\\projet_test\\agent ia\\rag-qa-self\\rag_env\\lib\\site-packages (from typing-inspect<1,>=0.4.0->dataclasses-json->unstructured[pdf]) (1.1.0)\n",
      "Requirement already satisfied: torchvision in c:\\users\\kaisensdata\\videos\\these\\projet_test\\agent ia\\rag-qa-self\\rag_env\\lib\\site-packages (from effdet->unstructured[pdf]) (0.22.0)\n",
      "Requirement already satisfied: pycocotools>=2.0.2 in c:\\users\\kaisensdata\\videos\\these\\projet_test\\agent ia\\rag-qa-self\\rag_env\\lib\\site-packages (from effdet->unstructured[pdf]) (2.0.8)\n",
      "Requirement already satisfied: omegaconf>=2.0 in c:\\users\\kaisensdata\\videos\\these\\projet_test\\agent ia\\rag-qa-self\\rag_env\\lib\\site-packages (from effdet->unstructured[pdf]) (2.3.0)\n",
      "Requirement already satisfied: antlr4-python3-runtime==4.9.* in c:\\users\\kaisensdata\\videos\\these\\projet_test\\agent ia\\rag-qa-self\\rag_env\\lib\\site-packages (from omegaconf>=2.0->effdet->unstructured[pdf]) (4.9.3)\n",
      "Requirement already satisfied: contourpy>=1.0.1 in c:\\users\\kaisensdata\\videos\\these\\projet_test\\agent ia\\rag-qa-self\\rag_env\\lib\\site-packages (from matplotlib->unstructured-inference>=0.8.10->unstructured[pdf]) (1.3.2)\n",
      "Requirement already satisfied: cycler>=0.10 in c:\\users\\kaisensdata\\videos\\these\\projet_test\\agent ia\\rag-qa-self\\rag_env\\lib\\site-packages (from matplotlib->unstructured-inference>=0.8.10->unstructured[pdf]) (0.12.1)\n",
      "Requirement already satisfied: fonttools>=4.22.0 in c:\\users\\kaisensdata\\videos\\these\\projet_test\\agent ia\\rag-qa-self\\rag_env\\lib\\site-packages (from matplotlib->unstructured-inference>=0.8.10->unstructured[pdf]) (4.57.0)\n",
      "Requirement already satisfied: kiwisolver>=1.3.1 in c:\\users\\kaisensdata\\videos\\these\\projet_test\\agent ia\\rag-qa-self\\rag_env\\lib\\site-packages (from matplotlib->unstructured-inference>=0.8.10->unstructured[pdf]) (1.4.8)\n",
      "Requirement already satisfied: pyparsing>=2.3.1 in c:\\users\\kaisensdata\\videos\\these\\projet_test\\agent ia\\rag-qa-self\\rag_env\\lib\\site-packages (from matplotlib->unstructured-inference>=0.8.10->unstructured[pdf]) (3.2.3)\n",
      "Requirement already satisfied: python-dateutil>=2.7 in c:\\users\\kaisensdata\\videos\\these\\projet_test\\agent ia\\rag-qa-self\\rag_env\\lib\\site-packages (from matplotlib->unstructured-inference>=0.8.10->unstructured[pdf]) (2.9.0.post0)\n",
      "Requirement already satisfied: six>=1.5 in c:\\users\\kaisensdata\\videos\\these\\projet_test\\agent ia\\rag-qa-self\\rag_env\\lib\\site-packages (from python-dateutil>=2.7->matplotlib->unstructured-inference>=0.8.10->unstructured[pdf]) (1.17.0)\n",
      "Requirement already satisfied: networkx in c:\\users\\kaisensdata\\videos\\these\\projet_test\\agent ia\\rag-qa-self\\rag_env\\lib\\site-packages (from torch->unstructured-inference>=0.8.10->unstructured[pdf]) (3.4.2)\n",
      "Requirement already satisfied: jinja2 in c:\\users\\kaisensdata\\videos\\these\\projet_test\\agent ia\\rag-qa-self\\rag_env\\lib\\site-packages (from torch->unstructured-inference>=0.8.10->unstructured[pdf]) (3.1.6)\n",
      "Requirement already satisfied: mpmath<1.4,>=1.1.0 in c:\\users\\kaisensdata\\videos\\these\\projet_test\\agent ia\\rag-qa-self\\rag_env\\lib\\site-packages (from sympy->onnxruntime>=1.19.0->unstructured[pdf]) (1.3.0)\n",
      "Requirement already satisfied: google-api-core!=2.0.*,!=2.1.*,!=2.10.*,!=2.2.*,!=2.3.*,!=2.4.*,!=2.5.*,!=2.6.*,!=2.7.*,!=2.8.*,!=2.9.*,<3.0.0,>=1.34.1 in c:\\users\\kaisensdata\\videos\\these\\projet_test\\agent ia\\rag-qa-self\\rag_env\\lib\\site-packages (from google-api-core[grpc]!=2.0.*,!=2.1.*,!=2.10.*,!=2.2.*,!=2.3.*,!=2.4.*,!=2.5.*,!=2.6.*,!=2.7.*,!=2.8.*,!=2.9.*,<3.0.0,>=1.34.1->google-cloud-vision->unstructured[pdf]) (2.25.0rc0)\n",
      "Requirement already satisfied: google-auth!=2.24.0,!=2.25.0,<3.0.0,>=2.14.1 in c:\\users\\kaisensdata\\videos\\these\\projet_test\\agent ia\\rag-qa-self\\rag_env\\lib\\site-packages (from google-cloud-vision->unstructured[pdf]) (2.39.0)\n",
      "Requirement already satisfied: proto-plus<2.0.0,>=1.22.3 in c:\\users\\kaisensdata\\videos\\these\\projet_test\\agent ia\\rag-qa-self\\rag_env\\lib\\site-packages (from google-cloud-vision->unstructured[pdf]) (1.26.1)\n",
      "Requirement already satisfied: googleapis-common-protos<2.0.0,>=1.56.2 in c:\\users\\kaisensdata\\videos\\these\\projet_test\\agent ia\\rag-qa-self\\rag_env\\lib\\site-packages (from google-api-core!=2.0.*,!=2.1.*,!=2.10.*,!=2.2.*,!=2.3.*,!=2.4.*,!=2.5.*,!=2.6.*,!=2.7.*,!=2.8.*,!=2.9.*,<3.0.0,>=1.34.1->google-api-core[grpc]!=2.0.*,!=2.1.*,!=2.10.*,!=2.2.*,!=2.3.*,!=2.4.*,!=2.5.*,!=2.6.*,!=2.7.*,!=2.8.*,!=2.9.*,<3.0.0,>=1.34.1->google-cloud-vision->unstructured[pdf]) (1.70.0)\n",
      "Requirement already satisfied: grpcio<2.0.0,>=1.33.2 in c:\\users\\kaisensdata\\videos\\these\\projet_test\\agent ia\\rag-qa-self\\rag_env\\lib\\site-packages (from google-api-core[grpc]!=2.0.*,!=2.1.*,!=2.10.*,!=2.2.*,!=2.3.*,!=2.4.*,!=2.5.*,!=2.6.*,!=2.7.*,!=2.8.*,!=2.9.*,<3.0.0,>=1.34.1->google-cloud-vision->unstructured[pdf]) (1.71.0)\n",
      "Requirement already satisfied: grpcio-status<2.0.0,>=1.33.2 in c:\\users\\kaisensdata\\videos\\these\\projet_test\\agent ia\\rag-qa-self\\rag_env\\lib\\site-packages (from google-api-core[grpc]!=2.0.*,!=2.1.*,!=2.10.*,!=2.2.*,!=2.3.*,!=2.4.*,!=2.5.*,!=2.6.*,!=2.7.*,!=2.8.*,!=2.9.*,<3.0.0,>=1.34.1->google-cloud-vision->unstructured[pdf]) (1.71.0)\n",
      "Requirement already satisfied: cachetools<6.0,>=2.0.0 in c:\\users\\kaisensdata\\videos\\these\\projet_test\\agent ia\\rag-qa-self\\rag_env\\lib\\site-packages (from google-auth!=2.24.0,!=2.25.0,<3.0.0,>=2.14.1->google-cloud-vision->unstructured[pdf]) (5.5.2)\n",
      "Requirement already satisfied: pyasn1-modules>=0.2.1 in c:\\users\\kaisensdata\\videos\\these\\projet_test\\agent ia\\rag-qa-self\\rag_env\\lib\\site-packages (from google-auth!=2.24.0,!=2.25.0,<3.0.0,>=2.14.1->google-cloud-vision->unstructured[pdf]) (0.4.2)\n",
      "Requirement already satisfied: rsa<5,>=3.1.4 in c:\\users\\kaisensdata\\videos\\these\\projet_test\\agent ia\\rag-qa-self\\rag_env\\lib\\site-packages (from google-auth!=2.24.0,!=2.25.0,<3.0.0,>=2.14.1->google-cloud-vision->unstructured[pdf]) (4.9.1)\n",
      "Requirement already satisfied: charset-normalizer<4,>=2 in c:\\users\\kaisensdata\\videos\\these\\projet_test\\agent ia\\rag-qa-self\\rag_env\\lib\\site-packages (from requests->unstructured[pdf]) (3.4.1)\n",
      "Requirement already satisfied: idna<4,>=2.5 in c:\\users\\kaisensdata\\videos\\these\\projet_test\\agent ia\\rag-qa-self\\rag_env\\lib\\site-packages (from requests->unstructured[pdf]) (3.10)\n",
      "Requirement already satisfied: urllib3<3,>=1.21.1 in c:\\users\\kaisensdata\\videos\\these\\projet_test\\agent ia\\rag-qa-self\\rag_env\\lib\\site-packages (from requests->unstructured[pdf]) (2.4.0)\n",
      "Requirement already satisfied: certifi>=2017.4.17 in c:\\users\\kaisensdata\\videos\\these\\projet_test\\agent ia\\rag-qa-self\\rag_env\\lib\\site-packages (from requests->unstructured[pdf]) (2025.4.26)\n",
      "Requirement already satisfied: pyasn1>=0.1.3 in c:\\users\\kaisensdata\\videos\\these\\projet_test\\agent ia\\rag-qa-self\\rag_env\\lib\\site-packages (from rsa<5,>=3.1.4->google-auth!=2.24.0,!=2.25.0,<3.0.0,>=2.14.1->google-cloud-vision->unstructured[pdf]) (0.6.1)\n",
      "Requirement already satisfied: webencodings in c:\\users\\kaisensdata\\videos\\these\\projet_test\\agent ia\\rag-qa-self\\rag_env\\lib\\site-packages (from html5lib->unstructured[pdf]) (0.5.1)\n",
      "Requirement already satisfied: MarkupSafe>=2.0 in c:\\users\\kaisensdata\\videos\\these\\projet_test\\agent ia\\rag-qa-self\\rag_env\\lib\\site-packages (from jinja2->torch->unstructured-inference>=0.8.10->unstructured[pdf]) (3.0.2)\n",
      "Requirement already satisfied: click in c:\\users\\kaisensdata\\videos\\these\\projet_test\\agent ia\\rag-qa-self\\rag_env\\lib\\site-packages (from nltk->unstructured[pdf]) (8.1.8)\n",
      "Requirement already satisfied: joblib in c:\\users\\kaisensdata\\videos\\these\\projet_test\\agent ia\\rag-qa-self\\rag_env\\lib\\site-packages (from nltk->unstructured[pdf]) (1.4.2)\n",
      "Requirement already satisfied: pytz>=2020.1 in c:\\users\\kaisensdata\\videos\\these\\projet_test\\agent ia\\rag-qa-self\\rag_env\\lib\\site-packages (from pandas->unstructured-inference>=0.8.10->unstructured[pdf]) (2025.2)\n",
      "Requirement already satisfied: tzdata>=2022.7 in c:\\users\\kaisensdata\\videos\\these\\projet_test\\agent ia\\rag-qa-self\\rag_env\\lib\\site-packages (from pandas->unstructured-inference>=0.8.10->unstructured[pdf]) (2025.2)\n",
      "Requirement already satisfied: cryptography>=36.0.0 in c:\\users\\kaisensdata\\videos\\these\\projet_test\\agent ia\\rag-qa-self\\rag_env\\lib\\site-packages (from pdfminer.six->unstructured[pdf]) (44.0.2)\n",
      "Requirement already satisfied: cffi>=1.12 in c:\\users\\kaisensdata\\videos\\these\\projet_test\\agent ia\\rag-qa-self\\rag_env\\lib\\site-packages (from cryptography>=36.0.0->pdfminer.six->unstructured[pdf]) (1.17.1)\n",
      "Requirement already satisfied: pycparser in c:\\users\\kaisensdata\\videos\\these\\projet_test\\agent ia\\rag-qa-self\\rag_env\\lib\\site-packages (from cffi>=1.12->cryptography>=36.0.0->pdfminer.six->unstructured[pdf]) (2.22)\n",
      "Requirement already satisfied: Deprecated in c:\\users\\kaisensdata\\videos\\these\\projet_test\\agent ia\\rag-qa-self\\rag_env\\lib\\site-packages (from pikepdf->unstructured[pdf]) (1.2.18)\n",
      "Requirement already satisfied: olefile in c:\\users\\kaisensdata\\videos\\these\\projet_test\\agent ia\\rag-qa-self\\rag_env\\lib\\site-packages (from python-oxmsg->unstructured[pdf]) (0.47)\n",
      "Requirement already satisfied: aiofiles>=24.1.0 in c:\\users\\kaisensdata\\videos\\these\\projet_test\\agent ia\\rag-qa-self\\rag_env\\lib\\site-packages (from unstructured-client->unstructured[pdf]) (24.1.0)\n",
      "Requirement already satisfied: eval-type-backport<0.3.0,>=0.2.0 in c:\\users\\kaisensdata\\videos\\these\\projet_test\\agent ia\\rag-qa-self\\rag_env\\lib\\site-packages (from unstructured-client->unstructured[pdf]) (0.2.2)\n",
      "Requirement already satisfied: httpx>=0.27.0 in c:\\users\\kaisensdata\\videos\\these\\projet_test\\agent ia\\rag-qa-self\\rag_env\\lib\\site-packages (from unstructured-client->unstructured[pdf]) (0.28.1)\n",
      "Requirement already satisfied: jsonpath-python<2.0.0,>=1.0.6 in c:\\users\\kaisensdata\\videos\\these\\projet_test\\agent ia\\rag-qa-self\\rag_env\\lib\\site-packages (from unstructured-client->unstructured[pdf]) (1.0.6)\n",
      "Requirement already satisfied: nest-asyncio>=1.6.0 in c:\\users\\kaisensdata\\videos\\these\\projet_test\\agent ia\\rag-qa-self\\rag_env\\lib\\site-packages (from unstructured-client->unstructured[pdf]) (1.6.0)\n",
      "Requirement already satisfied: pydantic<2.10.0,>=2.9.2 in c:\\users\\kaisensdata\\videos\\these\\projet_test\\agent ia\\rag-qa-self\\rag_env\\lib\\site-packages (from unstructured-client->unstructured[pdf]) (2.9.2)\n",
      "Requirement already satisfied: requests-toolbelt>=1.0.0 in c:\\users\\kaisensdata\\videos\\these\\projet_test\\agent ia\\rag-qa-self\\rag_env\\lib\\site-packages (from unstructured-client->unstructured[pdf]) (1.0.0)\n",
      "Requirement already satisfied: annotated-types>=0.6.0 in c:\\users\\kaisensdata\\videos\\these\\projet_test\\agent ia\\rag-qa-self\\rag_env\\lib\\site-packages (from pydantic<2.10.0,>=2.9.2->unstructured-client->unstructured[pdf]) (0.7.0)\n",
      "Requirement already satisfied: pydantic-core==2.23.4 in c:\\users\\kaisensdata\\videos\\these\\projet_test\\agent ia\\rag-qa-self\\rag_env\\lib\\site-packages (from pydantic<2.10.0,>=2.9.2->unstructured-client->unstructured[pdf]) (2.23.4)\n",
      "Requirement already satisfied: anyio in c:\\users\\kaisensdata\\videos\\these\\projet_test\\agent ia\\rag-qa-self\\rag_env\\lib\\site-packages (from httpx>=0.27.0->unstructured-client->unstructured[pdf]) (4.9.0)\n",
      "Requirement already satisfied: httpcore==1.* in c:\\users\\kaisensdata\\videos\\these\\projet_test\\agent ia\\rag-qa-self\\rag_env\\lib\\site-packages (from httpx>=0.27.0->unstructured-client->unstructured[pdf]) (1.0.9)\n",
      "Requirement already satisfied: h11>=0.16 in c:\\users\\kaisensdata\\videos\\these\\projet_test\\agent ia\\rag-qa-self\\rag_env\\lib\\site-packages (from httpcore==1.*->httpx>=0.27.0->unstructured-client->unstructured[pdf]) (0.16.0)\n",
      "Requirement already satisfied: exceptiongroup>=1.0.2 in c:\\users\\kaisensdata\\videos\\these\\projet_test\\agent ia\\rag-qa-self\\rag_env\\lib\\site-packages (from anyio->httpx>=0.27.0->unstructured-client->unstructured[pdf]) (1.2.2)\n",
      "Requirement already satisfied: sniffio>=1.1 in c:\\users\\kaisensdata\\videos\\these\\projet_test\\agent ia\\rag-qa-self\\rag_env\\lib\\site-packages (from anyio->httpx>=0.27.0->unstructured-client->unstructured[pdf]) (1.3.1)\n"
     ]
    }
   ],
   "source": [
    "!pip install \"unstructured[pdf]\""
   ]
  },
  {
   "cell_type": "markdown",
   "id": "9591a866-b5d3-4ede-ac9c-c782d1e74c96",
   "metadata": {},
   "source": [
    "## Setup"
   ]
  },
  {
   "cell_type": "code",
   "execution_count": 1,
   "id": "908189e7-4c2f-4386-ac1a-b2749cfa40e0",
   "metadata": {
    "scrolled": true,
    "tags": []
   },
   "outputs": [],
   "source": [
    "# !pip install -r requirements.txt"
   ]
  },
  {
   "cell_type": "code",
   "execution_count": 4,
   "id": "cb448214-5ddc-4ff5-bd92-1745ca2b7a8e",
   "metadata": {},
   "outputs": [
    {
     "name": "stderr",
     "output_type": "stream",
     "text": [
      "c:\\Users\\kaisensdata\\Videos\\THESE\\projet_test\\Agent IA\\rag-qa-self\\rag_env\\lib\\site-packages\\tqdm\\auto.py:21: TqdmWarning: IProgress not found. Please update jupyter and ipywidgets. See https://ipywidgets.readthedocs.io/en/stable/user_install.html\n",
      "  from .autonotebook import tqdm as notebook_tqdm\n"
     ]
    },
    {
     "data": {
      "text/plain": [
       "True"
      ]
     },
     "execution_count": 4,
     "metadata": {},
     "output_type": "execute_result"
    }
   ],
   "source": [
    "import google.generativeai as genai\n",
    "import os\n",
    "from dotenv import load_dotenv\n",
    "\n",
    "from langchain.document_loaders import DirectoryLoader\n",
    "from langchain.schema import Document\n",
    "from langchain.text_splitter import RecursiveCharacterTextSplitter\n",
    "from langchain_community.embeddings import GPT4AllEmbeddings\n",
    "import shutil\n",
    "from langchain_chroma import Chroma\n",
    "\n",
    "from langchain.prompts import ChatPromptTemplate\n",
    "\n",
    "from langchain_google_genai import GoogleGenerativeAI\n",
    "\n",
    "load_dotenv()"
   ]
  },
  {
   "cell_type": "markdown",
   "id": "54862cbc-da82-4133-9570-b988c14cb49b",
   "metadata": {},
   "source": [
    "### Configure Gemini LLM"
   ]
  },
  {
   "cell_type": "code",
   "execution_count": null,
   "id": "fb4728a9-65be-4545-8ff3-f7a2997c8d3f",
   "metadata": {},
   "outputs": [],
   "source": [
    "# prompt=\"do you know ollo?\""
   ]
  },
  {
   "cell_type": "code",
   "execution_count": 3,
   "id": "7a91a567-7049-4f06-a712-4ca8aa8c44c8",
   "metadata": {},
   "outputs": [],
   "source": [
    "# genai.configure(api_key=os.environ['GEMINI_API_KEY'])\n",
    "# model = genai.GenerativeModel(\"gemini-1.5-flash\")\n",
    "\n",
    "# response = model.generate_content(\n",
    "#     prompt,\n",
    "#     generation_config=genai.types.GenerationConfig(\n",
    "#         # max_output_tokens=140,\n",
    "#         # temperature=0.7,\n",
    "#     )\n",
    "# )\n",
    "\n",
    "llm = GoogleGenerativeAI(model=\"gemini-1.5-flash\",\n",
    "                         google_api_key=os.environ['GEMINI_API_KEY'])"
   ]
  },
  {
   "cell_type": "code",
   "execution_count": 4,
   "id": "e4ba45e1-aaae-4e72-ae84-9da3782a0100",
   "metadata": {
    "scrolled": true,
    "tags": []
   },
   "outputs": [],
   "source": [
    "# print(response.text)"
   ]
  },
  {
   "cell_type": "markdown",
   "id": "f36d18cf-6e3d-4a36-94bd-c74082b46329",
   "metadata": {},
   "source": [
    "### Create vector DB from personal PDF files"
   ]
  },
  {
   "cell_type": "code",
   "execution_count": 5,
   "id": "f532317b-8b58-4316-8e53-d7cb5444f829",
   "metadata": {},
   "outputs": [],
   "source": [
    "DATA_PATH = \"data_sources\"\n",
    "CHROMA_PATH = \"chroma\"\n",
    "\n",
    "model_name = \"all-MiniLM-L6-v2.gguf2.f16.gguf\"\n",
    "gpt4all_kwargs = {'allow_download': 'True'}\n",
    "gpt4all_embeddings = GPT4AllEmbeddings(\n",
    "    model_name=model_name,\n",
    "    gpt4all_kwargs=gpt4all_kwargs\n",
    ")\n",
    "\n",
    "def load_documents():\n",
    "    loader = DirectoryLoader(DATA_PATH, glob=\"*.pdf\")\n",
    "    documents = loader.load()\n",
    "    return documents\n",
    "\n",
    "def split_text(documents: list[Document]):\n",
    "    text_splitter = RecursiveCharacterTextSplitter(\n",
    "        chunk_size=300,\n",
    "        chunk_overlap=100,\n",
    "        length_function=len,\n",
    "        add_start_index=True,\n",
    "    )\n",
    "    \n",
    "    chunks = text_splitter.split_documents(documents)\n",
    "    print(f\"Split {len(documents)} documents into {len(chunks)} chunks.\")\n",
    "    return chunks\n",
    "\n",
    "def save_to_chroma(chunks: list[Document]):\n",
    "    # clear previous db\n",
    "    if os.path.exists(CHROMA_PATH):\n",
    "        shutil.rmtree(CHROMA_PATH)\n",
    "\n",
    "    # create db\n",
    "    db = Chroma.from_documents(\n",
    "        chunks, gpt4all_embeddings, persist_directory=CHROMA_PATH\n",
    "    )\n",
    "    \n",
    "    print(f\"Saved {len(chunks)} chunks to {CHROMA_PATH}.\")"
   ]
  },
  {
   "cell_type": "code",
   "execution_count": 6,
   "id": "1099b564-a1a6-4f37-86bc-fd471edfdb20",
   "metadata": {},
   "outputs": [
    {
     "name": "stdout",
     "output_type": "stream",
     "text": [
      "Split 3 documents into 59 chunks.\n",
      "Saved 59 chunks to chroma.\n"
     ]
    }
   ],
   "source": [
    "documents = load_documents()\n",
    "doc_chunks = split_text(documents)\n",
    "save_to_chroma(doc_chunks)"
   ]
  },
  {
   "cell_type": "markdown",
   "id": "10475827-7ab9-442b-8e8c-558a207b9cdd",
   "metadata": {},
   "source": [
    "### Retrieve similar vectors as the prompt from the DB"
   ]
  },
  {
   "cell_type": "code",
   "execution_count": null,
   "id": "19c87c81-a988-4e65-94dc-91e41d0cd047",
   "metadata": {},
   "outputs": [],
   "source": [
    "db = Chroma(persist_directory=CHROMA_PATH,\n",
    "            embedding_function=gpt4all_embeddings)\n",
    "\n",
    "retriever = db.as_retriever(search_type=\"similarity\")\n",
    "\n",
    "# r_docs = retriever.invoke(\"what are ollo's qualifications?\")"
   ]
  },
  {
   "cell_type": "code",
   "execution_count": null,
   "id": "02d95f19-8092-4994-a150-41a496f4a6fe",
   "metadata": {
    "scrolled": true,
    "tags": []
   },
   "outputs": [],
   "source": [
    "# prompt_embedding = gpt4all_embeddings.embed_query(\"who is ollo?\")"
   ]
  },
  {
   "cell_type": "code",
   "execution_count": null,
   "id": "a6ca69a3-d5b1-4c95-aa19-8bf2c3464b75",
   "metadata": {},
   "outputs": [],
   "source": [
    "# r_docs"
   ]
  },
  {
   "cell_type": "markdown",
   "id": "d7100c95-7044-4bcc-bd4b-789b0451ccc2",
   "metadata": {},
   "source": [
    "### Reformulate the question to give context"
   ]
  },
  {
   "cell_type": "code",
   "execution_count": 10,
   "id": "c9b993b1-d64a-40df-b838-a68fb3c5bb69",
   "metadata": {},
   "outputs": [],
   "source": [
    "from langchain.chains import create_history_aware_retriever\n",
    "from langchain_core.prompts import ChatPromptTemplate, MessagesPlaceholder\n",
    "\n",
    "### Contextualize question ###\n",
    "contextualize_q_system_prompt = \"\"\"Given a chat history and the latest user question \\\n",
    "which might reference context in the chat history, formulate a standalone question \\\n",
    "which can be understood without the chat history. Do NOT answer the question, \\\n",
    "just reformulate it if needed and otherwise return it as is.\"\"\"\n",
    "\n",
    "contextualize_q_prompt = ChatPromptTemplate.from_messages(\n",
    "    [\n",
    "        (\"system\", contextualize_q_system_prompt),\n",
    "        MessagesPlaceholder(\"chat_history\"),\n",
    "        (\"human\", \"{input}\"),\n",
    "    ]\n",
    ")\n",
    "\n",
    "history_aware_retriever = create_history_aware_retriever(\n",
    "    llm, retriever, contextualize_q_prompt\n",
    ")"
   ]
  },
  {
   "cell_type": "markdown",
   "id": "f3e95854-46f7-43a0-84fe-ad9eb424a382",
   "metadata": {},
   "source": [
    "### Answer the question"
   ]
  },
  {
   "cell_type": "code",
   "execution_count": 14,
   "id": "b20d99a4-83c8-4bd2-ad64-6f8f7bb8399e",
   "metadata": {},
   "outputs": [],
   "source": [
    "from langchain.chains.combine_documents import create_stuff_documents_chain\n",
    "from langchain.chains import create_history_aware_retriever, create_retrieval_chain\n",
    "from langchain_core.runnables.history import RunnableWithMessageHistory\n",
    "from langchain_core.chat_history import BaseChatMessageHistory\n",
    "\n",
    "qa_system_prompt = \"\"\"\n",
    "Use the following pieces of retrieved context to answer the question. \\\n",
    "Use three to five sentences maximum and keep the answer concise.\\\n",
    "\n",
    "{context}\"\"\"\n",
    "qa_prompt = ChatPromptTemplate.from_messages(\n",
    "    [\n",
    "        (\"system\", qa_system_prompt),\n",
    "        MessagesPlaceholder(\"chat_history\"),\n",
    "        (\"human\", \"{input}\"),\n",
    "    ]\n",
    ") \n",
    "question_answer_chain = create_stuff_documents_chain(llm, qa_prompt)\n",
    "\n",
    "rag_chain = create_retrieval_chain(history_aware_retriever, question_answer_chain)"
   ]
  },
  {
   "cell_type": "code",
   "execution_count": 15,
   "id": "ee54e93c-03a5-4cab-896b-af25eee997ea",
   "metadata": {},
   "outputs": [],
   "source": [
    "from typing import Sequence\n",
    "\n",
    "from langchain_core.messages import AIMessage, BaseMessage, HumanMessage\n",
    "from langgraph.checkpoint.memory import MemorySaver\n",
    "from langgraph.graph import START, StateGraph\n",
    "from langgraph.graph.message import add_messages\n",
    "from typing_extensions import Annotated, TypedDict\n",
    "\n",
    "\n",
    "# We define a dict representing the state of the application.\n",
    "# This state has the same input and output keys as `rag_chain`.\n",
    "class State(TypedDict):\n",
    "    input: str\n",
    "    chat_history: Annotated[Sequence[BaseMessage], add_messages]\n",
    "    context: str\n",
    "    answer: str\n",
    "\n",
    "\n",
    "# We then define a simple node that runs the `rag_chain`.\n",
    "# The `return` values of the node update the graph state, so here we just\n",
    "# update the chat history with the input message and response.\n",
    "def call_model(state: State):\n",
    "    response = rag_chain.invoke(state)\n",
    "    return {\n",
    "        \"chat_history\": [\n",
    "            HumanMessage(state[\"input\"]),\n",
    "            AIMessage(response[\"answer\"]),\n",
    "        ],\n",
    "        \"context\": response[\"context\"],\n",
    "        \"answer\": response[\"answer\"],\n",
    "    }\n",
    "\n",
    "\n",
    "# Our graph consists only of one node:\n",
    "workflow = StateGraph(state_schema=State)\n",
    "workflow.add_edge(START, \"model\")\n",
    "workflow.add_node(\"model\", call_model)\n",
    "\n",
    "# Finally, we compile the graph with a checkpointer object.\n",
    "# This persists the state, in this case in memory.\n",
    "memory = MemorySaver()\n",
    "app = workflow.compile(checkpointer=memory)"
   ]
  },
  {
   "cell_type": "code",
   "execution_count": null,
   "id": "94edeb75-7be4-4cb1-b5e4-7c3aa2245fee",
   "metadata": {},
   "outputs": [],
   "source": [
    "config = {\"configurable\": {\"thread_id\": \"abc123\"}}\n",
    "\n",
    "result = app.invoke(\n",
    "    {\"input\": \"Can you explain more on her role in data science?\"},\n",
    "    config=config,\n",
    ")\n",
    "print(result[\"answer\"])"
   ]
  },
  {
   "cell_type": "code",
   "execution_count": null,
   "id": "9acafaa0-9547-4934-8f41-22f3ea9192f2",
   "metadata": {},
   "outputs": [],
   "source": [
    "chat_history = app.get_state(config).values[\"chat_history\"]\n",
    "for message in chat_history:\n",
    "    message.pretty_print()"
   ]
  },
  {
   "cell_type": "code",
   "execution_count": 18,
   "id": "8665c28e-0673-4ee1-8357-e04def5f79d8",
   "metadata": {},
   "outputs": [],
   "source": [
    "# def get_session_history(session_id: str) -> BaseChatMessageHistory:\n",
    "#     if session_id not in store:\n",
    "#         store[session_id] = load_session_history(session_id)\n",
    "#     return store[session_id]\n",
    "\n",
    "# # Function to load chat history\n",
    "# def load_session_history(session_id: str) -> BaseChatMessageHistory:\n",
    "#     db = next(get_db())\n",
    "#     chat_history = ChatMessageHistory()\n",
    "#     try:\n",
    "#         session = db.query(Session).filter(Session.session_id == session_id).first()\n",
    "#         if session:\n",
    "#             for message in session.messages:\n",
    "#                 chat_history.add_message({\"role\": message.role, \"content\": message.content})\n",
    "#     except SQLAlchemyError:\n",
    "#         pass\n",
    "#     finally:\n",
    "#         db.close()\n",
    "\n",
    "#     return chat_history\n",
    "\n",
    "# ### Statefully manage chat history ###\n",
    "# store = {}\n",
    "\n",
    "# conversational_rag_chain = RunnableWithMessageHistory(\n",
    "#     rag_chain,\n",
    "#     get_session_history,\n",
    "#     input_messages_key=\"input\",\n",
    "#     history_messages_key=\"chat_history\",\n",
    "#     output_messages_key=\"answer\",\n",
    "# )"
   ]
  },
  {
   "cell_type": "markdown",
   "id": "7867de01-760e-4207-bca0-f5dd241f583a",
   "metadata": {},
   "source": [
    "### Prompt the LLM"
   ]
  },
  {
   "cell_type": "code",
   "execution_count": null,
   "id": "e71d2027-bff6-4936-ae43-93af1927eae8",
   "metadata": {},
   "outputs": [],
   "source": [
    "PROMPT_TEMPLATE = \"\"\"\n",
    "Answer the question based mostly only on the following context:\n",
    "\n",
    "CONTEXT: {context}\n",
    "\n",
    "QUESTION: {question}\n",
    "\"\"\"\n",
    "\n",
    "query_text = \"Should I hire o as an AI Engineer?\"\n",
    "\n",
    "context_text = \"\\n\\n---\\n\\n\".join([r_doc.page_content for r_doc in r_docs])\n",
    "prompt_template = ChatPromptTemplate.from_template(PROMPT_TEMPLATE)\n",
    "prompt = prompt_template.format(context=context_text, question=query_text)"
   ]
  },
  {
   "cell_type": "code",
   "execution_count": null,
   "id": "461994d2-a217-40e1-9695-60d66cf6b2d1",
   "metadata": {
    "scrolled": true,
    "tags": []
   },
   "outputs": [],
   "source": [
    "print(prompt)"
   ]
  },
  {
   "cell_type": "code",
   "execution_count": null,
   "id": "66846f97-7ab5-4d82-a7eb-a588610b9e61",
   "metadata": {},
   "outputs": [],
   "source": [
    "response = model.generate_content(prompt)\n",
    "print(response.text)"
   ]
  },
  {
   "cell_type": "code",
   "execution_count": null,
   "id": "a97d5cda-2341-4519-a98e-afa6656e1265",
   "metadata": {},
   "outputs": [],
   "source": []
  }
 ],
 "metadata": {
  "kernelspec": {
   "display_name": "rag_env",
   "language": "python",
   "name": "python3"
  },
  "language_info": {
   "codemirror_mode": {
    "name": "ipython",
    "version": 3
   },
   "file_extension": ".py",
   "mimetype": "text/x-python",
   "name": "python",
   "nbconvert_exporter": "python",
   "pygments_lexer": "ipython3",
   "version": "3.10.0"
  }
 },
 "nbformat": 4,
 "nbformat_minor": 5
}
